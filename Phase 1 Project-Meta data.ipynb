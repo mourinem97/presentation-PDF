{
 "cells": [
  {
   "cell_type": "markdown",
   "metadata": {},
   "source": [
    "The data will be cleaned using the following processes:\n",
    "1.Checking the number of columns\n",
    "2.Changing misspelt column names to the correct names\n",
    "3.Checking for duplicate values\n",
    "4.Checking for outliers\n",
    "5.Checking for the missing values"
   ]
  },
  {
   "cell_type": "code",
   "execution_count": 1,
   "metadata": {},
   "outputs": [],
   "source": [
    "#Importing necessary libraries\n",
    "import pandas as pd\n",
    "import numpy as np\n",
    "import matplotlib.pyplot as plt\n",
    "import seaborn as sns"
   ]
  },
  {
   "cell_type": "code",
   "execution_count": 2,
   "metadata": {},
   "outputs": [],
   "source": [
    "#Reading the file\n",
    "df = pd.read_csv('IMD1.csv')\n"
   ]
  },
  {
   "cell_type": "code",
   "execution_count": 3,
   "metadata": {},
   "outputs": [
    {
     "data": {
      "text/html": [
       "<div>\n",
       "<style scoped>\n",
       "    .dataframe tbody tr th:only-of-type {\n",
       "        vertical-align: middle;\n",
       "    }\n",
       "\n",
       "    .dataframe tbody tr th {\n",
       "        vertical-align: top;\n",
       "    }\n",
       "\n",
       "    .dataframe thead th {\n",
       "        text-align: right;\n",
       "    }\n",
       "</style>\n",
       "<table border=\"1\" class=\"dataframe\">\n",
       "  <thead>\n",
       "    <tr style=\"text-align: right;\">\n",
       "      <th></th>\n",
       "      <th>web-scraper-order</th>\n",
       "      <th>web-scraper-start-url</th>\n",
       "      <th>Links</th>\n",
       "      <th>Links-href</th>\n",
       "      <th>Name</th>\n",
       "      <th>Casts</th>\n",
       "      <th>Movie info</th>\n",
       "      <th>Ratings</th>\n",
       "      <th>Runtime</th>\n",
       "      <th>Movie stars</th>\n",
       "      <th>Director</th>\n",
       "      <th>Writers</th>\n",
       "    </tr>\n",
       "  </thead>\n",
       "  <tbody>\n",
       "    <tr>\n",
       "      <th>0</th>\n",
       "      <td>1689701169-1</td>\n",
       "      <td>https://www.imdb.com/chart/top/?ref_=nv_mv_250</td>\n",
       "      <td>250. Dances with Wolves</td>\n",
       "      <td>https://www.imdb.com/title/tt0099348/?ref_=cht...</td>\n",
       "      <td>Dances with Wolves</td>\n",
       "      <td>Cast &amp; crew</td>\n",
       "      <td>Lieutenant John Dunbar, assigned to a remote w...</td>\n",
       "      <td>8.0</td>\n",
       "      <td>3h 1m</td>\n",
       "      <td>NaN</td>\n",
       "      <td>DirectorKevin Costner</td>\n",
       "      <td>WriterMichael Blake</td>\n",
       "    </tr>\n",
       "    <tr>\n",
       "      <th>1</th>\n",
       "      <td>1689701185-2</td>\n",
       "      <td>https://www.imdb.com/chart/top/?ref_=nv_mv_250</td>\n",
       "      <td>249. Aladdin</td>\n",
       "      <td>https://www.imdb.com/title/tt0103639/?ref_=cht...</td>\n",
       "      <td>Aladdin</td>\n",
       "      <td>Cast &amp; crew</td>\n",
       "      <td>A kind-hearted street urchin and a power-hungr...</td>\n",
       "      <td>8.0</td>\n",
       "      <td>1h 30m</td>\n",
       "      <td>NaN</td>\n",
       "      <td>DirectorsRon ClementsJohn Musker</td>\n",
       "      <td>WritersRon ClementsJohn MuskerTed Elliott</td>\n",
       "    </tr>\n",
       "    <tr>\n",
       "      <th>2</th>\n",
       "      <td>1689701212-3</td>\n",
       "      <td>https://www.imdb.com/chart/top/?ref_=nv_mv_250</td>\n",
       "      <td>248. Life of Brian</td>\n",
       "      <td>https://www.imdb.com/title/tt0079470/?ref_=cht...</td>\n",
       "      <td>Life of Brian</td>\n",
       "      <td>Cast &amp; crew</td>\n",
       "      <td>Born on the original Christmas in the stable n...</td>\n",
       "      <td>8.0</td>\n",
       "      <td>1h 34m</td>\n",
       "      <td>NaN</td>\n",
       "      <td>DirectorTerry Jones</td>\n",
       "      <td>WritersGraham ChapmanJohn CleeseTerry Gilliam</td>\n",
       "    </tr>\n",
       "    <tr>\n",
       "      <th>3</th>\n",
       "      <td>1689701223-4</td>\n",
       "      <td>https://www.imdb.com/chart/top/?ref_=nv_mv_250</td>\n",
       "      <td>247. The Help</td>\n",
       "      <td>https://www.imdb.com/title/tt1454029/?ref_=cht...</td>\n",
       "      <td>The Help</td>\n",
       "      <td>Cast &amp; crew</td>\n",
       "      <td>An aspiring author during the civil rights mov...</td>\n",
       "      <td>8.1</td>\n",
       "      <td>2h 26m</td>\n",
       "      <td>NaN</td>\n",
       "      <td>DirectorTate Taylor</td>\n",
       "      <td>WritersTate TaylorKathryn Stockett</td>\n",
       "    </tr>\n",
       "    <tr>\n",
       "      <th>4</th>\n",
       "      <td>1689701233-5</td>\n",
       "      <td>https://www.imdb.com/chart/top/?ref_=nv_mv_250</td>\n",
       "      <td>246. The Iron Giant</td>\n",
       "      <td>https://www.imdb.com/title/tt0129167/?ref_=cht...</td>\n",
       "      <td>The Iron Giant</td>\n",
       "      <td>Cast &amp; crew</td>\n",
       "      <td>A young boy befriends a giant robot from outer...</td>\n",
       "      <td>8.1</td>\n",
       "      <td>1h 26m</td>\n",
       "      <td>NaN</td>\n",
       "      <td>DirectorBrad Bird</td>\n",
       "      <td>WritersTim McCanliesBrad BirdTed Hughes</td>\n",
       "    </tr>\n",
       "  </tbody>\n",
       "</table>\n",
       "</div>"
      ],
      "text/plain": [
       "  web-scraper-order                           web-scraper-start-url  \\\n",
       "0      1689701169-1  https://www.imdb.com/chart/top/?ref_=nv_mv_250   \n",
       "1      1689701185-2  https://www.imdb.com/chart/top/?ref_=nv_mv_250   \n",
       "2      1689701212-3  https://www.imdb.com/chart/top/?ref_=nv_mv_250   \n",
       "3      1689701223-4  https://www.imdb.com/chart/top/?ref_=nv_mv_250   \n",
       "4      1689701233-5  https://www.imdb.com/chart/top/?ref_=nv_mv_250   \n",
       "\n",
       "                     Links                                         Links-href  \\\n",
       "0  250. Dances with Wolves  https://www.imdb.com/title/tt0099348/?ref_=cht...   \n",
       "1             249. Aladdin  https://www.imdb.com/title/tt0103639/?ref_=cht...   \n",
       "2       248. Life of Brian  https://www.imdb.com/title/tt0079470/?ref_=cht...   \n",
       "3            247. The Help  https://www.imdb.com/title/tt1454029/?ref_=cht...   \n",
       "4      246. The Iron Giant  https://www.imdb.com/title/tt0129167/?ref_=cht...   \n",
       "\n",
       "                 Name        Casts  \\\n",
       "0  Dances with Wolves  Cast & crew   \n",
       "1             Aladdin  Cast & crew   \n",
       "2       Life of Brian  Cast & crew   \n",
       "3            The Help  Cast & crew   \n",
       "4      The Iron Giant  Cast & crew   \n",
       "\n",
       "                                          Movie info  Ratings Runtime  \\\n",
       "0  Lieutenant John Dunbar, assigned to a remote w...      8.0   3h 1m   \n",
       "1  A kind-hearted street urchin and a power-hungr...      8.0  1h 30m   \n",
       "2  Born on the original Christmas in the stable n...      8.0  1h 34m   \n",
       "3  An aspiring author during the civil rights mov...      8.1  2h 26m   \n",
       "4  A young boy befriends a giant robot from outer...      8.1  1h 26m   \n",
       "\n",
       "   Movie stars                          Director  \\\n",
       "0          NaN             DirectorKevin Costner   \n",
       "1          NaN  DirectorsRon ClementsJohn Musker   \n",
       "2          NaN               DirectorTerry Jones   \n",
       "3          NaN               DirectorTate Taylor   \n",
       "4          NaN                 DirectorBrad Bird   \n",
       "\n",
       "                                         Writers  \n",
       "0                            WriterMichael Blake  \n",
       "1      WritersRon ClementsJohn MuskerTed Elliott  \n",
       "2  WritersGraham ChapmanJohn CleeseTerry Gilliam  \n",
       "3             WritersTate TaylorKathryn Stockett  \n",
       "4        WritersTim McCanliesBrad BirdTed Hughes  "
      ]
     },
     "execution_count": 3,
     "metadata": {},
     "output_type": "execute_result"
    }
   ],
   "source": [
    "# top data rows\n",
    "df.head()"
   ]
  },
  {
   "cell_type": "code",
   "execution_count": 4,
   "metadata": {},
   "outputs": [
    {
     "data": {
      "text/plain": [
       "Index(['web-scraper-order', 'web-scraper-start-url', 'Links', 'Links-href',\n",
       "       'Name', 'Casts', 'Movie info', 'Ratings', 'Runtime', 'Movie stars',\n",
       "       'Director', 'Writers'],\n",
       "      dtype='object')"
      ]
     },
     "execution_count": 4,
     "metadata": {},
     "output_type": "execute_result"
    }
   ],
   "source": [
    "#Checking the number of columns\n",
    "df.columns"
   ]
  },
  {
   "cell_type": "code",
   "execution_count": 5,
   "metadata": {},
   "outputs": [
    {
     "data": {
      "text/plain": [
       "web-scraper-order          0\n",
       "web-scraper-start-url      0\n",
       "Links                      0\n",
       "Links-href                 0\n",
       "Name                       0\n",
       "Casts                      0\n",
       "Movie info                 0\n",
       "Ratings                    0\n",
       "Runtime                    1\n",
       "Movie stars              250\n",
       "Director                   0\n",
       "Writers                    0\n",
       "dtype: int64"
      ]
     },
     "execution_count": 5,
     "metadata": {},
     "output_type": "execute_result"
    }
   ],
   "source": [
    "#Checking for the missing values\n",
    "df.isnull().sum()"
   ]
  },
  {
   "cell_type": "code",
   "execution_count": 6,
   "metadata": {},
   "outputs": [
    {
     "name": "stdout",
     "output_type": "stream",
     "text": [
      "Ratings category:, {df_movie.Ratings.unique()}\n"
     ]
    },
    {
     "ename": "AttributeError",
     "evalue": "'AxesSubplot' object has no attribute 'bar_label'",
     "output_type": "error",
     "traceback": [
      "\u001b[1;31m---------------------------------------------------------------------------\u001b[0m",
      "\u001b[1;31mAttributeError\u001b[0m                            Traceback (most recent call last)",
      "\u001b[1;32m<ipython-input-6-64253a81be44>\u001b[0m in \u001b[0;36m<module>\u001b[1;34m\u001b[0m\n\u001b[0;32m      3\u001b[0m \u001b[0mprint\u001b[0m\u001b[1;33m(\u001b[0m \u001b[1;34m'Ratings category:, {df_movie.Ratings.unique()}'\u001b[0m\u001b[1;33m)\u001b[0m\u001b[1;33m\u001b[0m\u001b[1;33m\u001b[0m\u001b[0m\n\u001b[0;32m      4\u001b[0m \u001b[0max\u001b[0m \u001b[1;33m=\u001b[0m \u001b[0mdf_movies\u001b[0m\u001b[1;33m[\u001b[0m\u001b[1;34m'Ratings'\u001b[0m\u001b[1;33m]\u001b[0m\u001b[1;33m.\u001b[0m\u001b[0mvalue_counts\u001b[0m\u001b[1;33m(\u001b[0m\u001b[1;33m)\u001b[0m\u001b[1;33m.\u001b[0m\u001b[0mplot\u001b[0m\u001b[1;33m(\u001b[0m\u001b[0mkind\u001b[0m\u001b[1;33m=\u001b[0m \u001b[1;34m'bar'\u001b[0m\u001b[1;33m,\u001b[0m \u001b[0mfigsize\u001b[0m\u001b[1;33m=\u001b[0m\u001b[1;33m(\u001b[0m\u001b[1;36m12\u001b[0m\u001b[1;33m,\u001b[0m\u001b[1;36m9\u001b[0m\u001b[1;33m)\u001b[0m\u001b[1;33m)\u001b[0m\u001b[1;33m\u001b[0m\u001b[1;33m\u001b[0m\u001b[0m\n\u001b[1;32m----> 5\u001b[1;33m \u001b[0max\u001b[0m\u001b[1;33m.\u001b[0m\u001b[0mbar_label\u001b[0m\u001b[1;33m(\u001b[0m\u001b[0max\u001b[0m\u001b[1;33m.\u001b[0m\u001b[0mcontainers\u001b[0m\u001b[1;33m[\u001b[0m\u001b[1;36m0\u001b[0m\u001b[1;33m]\u001b[0m\u001b[1;33m)\u001b[0m\u001b[1;33m\u001b[0m\u001b[1;33m\u001b[0m\u001b[0m\n\u001b[0m",
      "\u001b[1;31mAttributeError\u001b[0m: 'AxesSubplot' object has no attribute 'bar_label'"
     ]
    },
    {
     "data": {
      "image/png": "[encoded data removed]",
      "text/plain": [
       "<Figure size 864x648 with 1 Axes>"
      ]
     },
     "metadata": {
      "needs_background": "light"
     },
     "output_type": "display_data"
    }
   ],
   "source": [
    "#Presentation of the data for the movie consumption\n",
    "df_movies = pd.read_csv('IMD1.csv')\n",
    "print( 'Ratings category:, {df_movie.Ratings.unique()}')\n",
    "ax = df_movies['Ratings'].value_counts().plot(kind= 'bar', figsize=(12,9))\n",
    "ax.bar_label(ax.containers[0])"
   ]
  },
  {
   "cell_type": "code",
   "execution_count": 7,
   "metadata": {},
   "outputs": [
    {
     "data": {
      "text/plain": [
       "web-scraper-order          0\n",
       "web-scraper-start-url      0\n",
       "Links                      0\n",
       "Links-href                 0\n",
       "Name                       0\n",
       "Casts                      0\n",
       "Movie info                 0\n",
       "Ratings                    0\n",
       "Runtime                    1\n",
       "Movie stars              250\n",
       "Director                   0\n",
       "Writers                    0\n",
       "dtype: int64"
      ]
     },
     "execution_count": 7,
     "metadata": {},
     "output_type": "execute_result"
    }
   ],
   "source": [
    "#check for the missing values in the column\n",
    "df.isnull().sum()"
   ]
  },
  {
   "cell_type": "code",
   "execution_count": 8,
   "metadata": {},
   "outputs": [
    {
     "data": {
      "text/plain": [
       "web-scraper-order        0\n",
       "web-scraper-start-url    0\n",
       "Links                    0\n",
       "Links-href               0\n",
       "Name                     0\n",
       "Casts                    0\n",
       "Movie info               0\n",
       "Ratings                  0\n",
       "Runtime                  0\n",
       "Movie stars              0\n",
       "Director                 0\n",
       "Writers                  0\n",
       "dtype: int64"
      ]
     },
     "execution_count": 8,
     "metadata": {},
     "output_type": "execute_result"
    }
   ],
   "source": [
    "#Dropping the missing values in a column\n",
    "df = df.dropna()\n",
    "df.isnull().sum()"
   ]
  },
  {
   "cell_type": "code",
   "execution_count": 9,
   "metadata": {},
   "outputs": [
    {
     "name": "stdout",
     "output_type": "stream",
     "text": [
      "<class 'pandas.core.frame.DataFrame'>\n",
      "Int64Index: 0 entries\n",
      "Data columns (total 12 columns):\n",
      " #   Column                 Non-Null Count  Dtype  \n",
      "---  ------                 --------------  -----  \n",
      " 0   web-scraper-order      0 non-null      object \n",
      " 1   web-scraper-start-url  0 non-null      object \n",
      " 2   Links                  0 non-null      object \n",
      " 3   Links-href             0 non-null      object \n",
      " 4   Name                   0 non-null      object \n",
      " 5   Casts                  0 non-null      object \n",
      " 6   Movie info             0 non-null      object \n",
      " 7   Ratings                0 non-null      float64\n",
      " 8   Runtime                0 non-null      object \n",
      " 9   Movie stars            0 non-null      float64\n",
      " 10  Director               0 non-null      object \n",
      " 11  Writers                0 non-null      object \n",
      "dtypes: float64(2), object(10)\n",
      "memory usage: 0.0+ bytes\n"
     ]
    }
   ],
   "source": [
    "#Checking for information of the dataset\n",
    "df.info()"
   ]
  },
  {
   "cell_type": "code",
   "execution_count": 10,
   "metadata": {},
   "outputs": [
    {
     "data": {
      "text/plain": [
       "Series([], Name: Ratings, dtype: int64)"
      ]
     },
     "execution_count": 10,
     "metadata": {},
     "output_type": "execute_result"
    }
   ],
   "source": [
    "df.groupby('Ratings')['Ratings'].agg(\"count\")"
   ]
  },
  {
   "cell_type": "code",
   "execution_count": 11,
   "metadata": {},
   "outputs": [
    {
     "name": "stderr",
     "output_type": "stream",
     "text": [
      "C:\\Users\\ADMIN\\anaconda3\\envs\\learn-env\\lib\\site-packages\\seaborn\\_decorators.py:36: FutureWarning: Pass the following variable as a keyword arg: x. From version 0.12, the only valid positional argument will be `data`, and passing other arguments without an explicit keyword will result in an error or misinterpretation.\n",
      "  warnings.warn(\n"
     ]
    },
    {
     "data": {
      "text/plain": [
       "<AxesSubplot:xlabel='Ratings'>"
      ]
     },
     "execution_count": 11,
     "metadata": {},
     "output_type": "execute_result"
    },
    {
     "data": {
      "image/png": "[encoded data removed]",
      "text/plain": [
       "<Figure size 432x288 with 1 Axes>"
      ]
     },
     "metadata": {
      "needs_background": "light"
     },
     "output_type": "display_data"
    }
   ],
   "source": [
    "#Checking for outliers in the dataset\n",
    "sns.boxplot(df['Ratings'])"
   ]
  },
  {
   "cell_type": "code",
   "execution_count": 12,
   "metadata": {},
   "outputs": [
    {
     "name": "stdout",
     "output_type": "stream",
     "text": [
      "Index(['Web-scraper-order', 'Web-scraper-start-url', 'Links', 'Links-href',\n",
      "       'Name', 'Casts', 'Movie info', 'Ratings', 'Runtime', 'Movie stars',\n",
      "       'Director', 'Writers'],\n",
      "      dtype='object')\n"
     ]
    }
   ],
   "source": [
    "#Changing all the first letters to uppercase\n",
    "df.columns = [col.capitalize() if col in [\"web-scraper-order\", \"web-scraper-start-url\"] else col for col in df.columns]\n",
    "print(df.columns)"
   ]
  },
  {
   "cell_type": "code",
   "execution_count": 13,
   "metadata": {},
   "outputs": [
    {
     "data": {
      "text/plain": [
       "Series([], dtype: bool)"
      ]
     },
     "execution_count": 13,
     "metadata": {},
     "output_type": "execute_result"
    }
   ],
   "source": [
    "#Checking for duplicates\n",
    "df.duplicated()"
   ]
  },
  {
   "cell_type": "code",
   "execution_count": 14,
   "metadata": {},
   "outputs": [
    {
     "name": "stdout",
     "output_type": "stream",
     "text": [
      "Empty DataFrame\n",
      "Columns: []\n",
      "Index: []\n"
     ]
    }
   ],
   "source": [
    "#Film with the highest ratings\n",
    "Ratings = pd.get_dummies(df.Ratings)\n",
    "print(Ratings.head())"
   ]
  },
  {
   "cell_type": "code",
   "execution_count": 15,
   "metadata": {},
   "outputs": [],
   "source": [
    "df.drop('Movie stars', axis=1, inplace=True)\n"
   ]
  },
  {
   "cell_type": "code",
   "execution_count": 16,
   "metadata": {},
   "outputs": [],
   "source": [
    "df.drop('Links-href', axis=1, inplace=True)"
   ]
  },
  {
   "cell_type": "code",
   "execution_count": 17,
   "metadata": {},
   "outputs": [
    {
     "data": {
      "text/html": [
       "<div>\n",
       "<style scoped>\n",
       "    .dataframe tbody tr th:only-of-type {\n",
       "        vertical-align: middle;\n",
       "    }\n",
       "\n",
       "    .dataframe tbody tr th {\n",
       "        vertical-align: top;\n",
       "    }\n",
       "\n",
       "    .dataframe thead th {\n",
       "        text-align: right;\n",
       "    }\n",
       "</style>\n",
       "<table border=\"1\" class=\"dataframe\">\n",
       "  <thead>\n",
       "    <tr style=\"text-align: right;\">\n",
       "      <th></th>\n",
       "      <th>Web-scraper-order</th>\n",
       "      <th>Web-scraper-start-url</th>\n",
       "      <th>Links</th>\n",
       "      <th>Name</th>\n",
       "      <th>Casts</th>\n",
       "      <th>Movie info</th>\n",
       "      <th>Ratings</th>\n",
       "      <th>Runtime</th>\n",
       "      <th>Director</th>\n",
       "      <th>Writers</th>\n",
       "    </tr>\n",
       "  </thead>\n",
       "  <tbody>\n",
       "  </tbody>\n",
       "</table>\n",
       "</div>"
      ],
      "text/plain": [
       "Empty DataFrame\n",
       "Columns: [Web-scraper-order, Web-scraper-start-url, Links, Name, Casts, Movie info, Ratings, Runtime, Director, Writers]\n",
       "Index: []"
      ]
     },
     "execution_count": 17,
     "metadata": {},
     "output_type": "execute_result"
    }
   ],
   "source": [
    "df.head()"
   ]
  },
  {
   "cell_type": "code",
   "execution_count": 18,
   "metadata": {},
   "outputs": [
    {
     "data": {
      "image/png": "[encoded data removed]",
      "text/plain": [
       "<Figure size 432x288 with 1 Axes>"
      ]
     },
     "metadata": {},
     "output_type": "display_data"
    }
   ],
   "source": [
    "#Visualization using a histogram(Name of movies vs ratings)\n",
    "plt.style.use('fivethirtyeight')\n",
    "Ratings = [8.0, 8.1, 8.2, 8.3, 8.4, 8.5, 8.6, 8.7, 8.8, 8.9, 9.0, 9.1, 9.2]\n",
    "plt.hist(Ratings, bins=5, edgecolor = 'black')\n",
    "plt.title('Top performing movies')\n",
    "plt.xlabel('Ratings')\n",
    "plt.ylabel('Name')\n",
    "plt.tight_layout()\n",
    "plt.show()"
   ]
  },
  {
   "cell_type": "code",
   "execution_count": 19,
   "metadata": {},
   "outputs": [
    {
     "data": {
      "image/png": "[encoded data removed]",
      "text/plain": [
       "<Figure size 576x396 with 2 Axes>"
      ]
     },
     "metadata": {},
     "output_type": "display_data"
    }
   ],
   "source": [
    "#Visualization using scatter plot\n",
    "plt.style.use('seaborn')\n",
    "x = [8.0, 8.0, 8.0, 8.2, 8.2, 8.2, 8.4, 8.4, 8.6, 8.6, 8.6, 8.8, 8.8, 9.0, 9.0, 9.2, 9.2, 9.2]\n",
    "y = [3.0, 3.0, 3.0, 2.2, 2.0, 2.2, 2.0, 2.0, 3.0, 3.0, 3.0, 2.0, 2.0, 2.0, 2.0, 3.0, 3.0, 3.0 ]\n",
    "plt.scatter(x, y, s=100, c='green',edgecolor= 'black', linewidth= 1 )\n",
    "cbar = plt.colorbar()\n",
    "cbar.set_label('Ratings')\n",
    "#x=Ratings\n",
    "#y=Runtime"
   ]
  },
  {
   "cell_type": "code",
   "execution_count": 29,
   "metadata": {},
   "outputs": [
    {
     "ename": "ValueError",
     "evalue": "not enough values to unpack (expected 2, got 0)",
     "output_type": "error",
     "traceback": [
      "\u001b[1;31m---------------------------------------------------------------------------\u001b[0m",
      "\u001b[1;31mValueError\u001b[0m                                Traceback (most recent call last)",
      "\u001b[1;32m<ipython-input-29-b1d60206532e>\u001b[0m in \u001b[0;36m<module>\u001b[1;34m\u001b[0m\n\u001b[0;32m      1\u001b[0m \u001b[1;31m#Representation of data in a boxplot\u001b[0m\u001b[1;33m\u001b[0m\u001b[1;33m\u001b[0m\u001b[1;33m\u001b[0m\u001b[0m\n\u001b[1;32m----> 2\u001b[1;33m \u001b[0max\u001b[0m \u001b[1;33m=\u001b[0m \u001b[0mdf\u001b[0m\u001b[1;33m.\u001b[0m\u001b[0mboxplot\u001b[0m\u001b[1;33m(\u001b[0m\u001b[0mcolumn\u001b[0m\u001b[1;33m=\u001b[0m \u001b[1;34m'Ratings'\u001b[0m\u001b[1;33m,\u001b[0m \u001b[0mby\u001b[0m\u001b[1;33m=\u001b[0m \u001b[1;34m'Runtime'\u001b[0m\u001b[1;33m,\u001b[0m \u001b[0mfigsize\u001b[0m\u001b[1;33m=\u001b[0m \u001b[1;33m(\u001b[0m\u001b[1;36m20\u001b[0m\u001b[1;33m,\u001b[0m\u001b[1;36m8\u001b[0m\u001b[1;33m)\u001b[0m\u001b[1;33m)\u001b[0m\u001b[1;33m\u001b[0m\u001b[1;33m\u001b[0m\u001b[0m\n\u001b[0m\u001b[0;32m      3\u001b[0m \u001b[0max\u001b[0m\u001b[1;33m.\u001b[0m\u001b[0mset_ylabel\u001b[0m\u001b[1;33m(\u001b[0m\u001b[1;34m\"Ratings\"\u001b[0m\u001b[1;33m)\u001b[0m\u001b[1;33m\u001b[0m\u001b[1;33m\u001b[0m\u001b[0m\n\u001b[0;32m      4\u001b[0m \u001b[0max\u001b[0m\u001b[1;33m.\u001b[0m\u001b[0mset_title\u001b[0m\u001b[1;33m(\u001b[0m\u001b[1;34m\"Movies performance\"\u001b[0m\u001b[1;33m)\u001b[0m\u001b[1;33m\u001b[0m\u001b[1;33m\u001b[0m\u001b[0m\n",
      "\u001b[1;32m~\\anaconda3\\envs\\learn-env\\lib\\site-packages\\pandas\\plotting\\_core.py\u001b[0m in \u001b[0;36mboxplot_frame\u001b[1;34m(self, column, by, ax, fontsize, rot, grid, figsize, layout, return_type, backend, **kwargs)\u001b[0m\n\u001b[0;32m    492\u001b[0m ):\n\u001b[0;32m    493\u001b[0m     \u001b[0mplot_backend\u001b[0m \u001b[1;33m=\u001b[0m \u001b[0m_get_plot_backend\u001b[0m\u001b[1;33m(\u001b[0m\u001b[0mbackend\u001b[0m\u001b[1;33m)\u001b[0m\u001b[1;33m\u001b[0m\u001b[1;33m\u001b[0m\u001b[0m\n\u001b[1;32m--> 494\u001b[1;33m     return plot_backend.boxplot_frame(\n\u001b[0m\u001b[0;32m    495\u001b[0m         \u001b[0mself\u001b[0m\u001b[1;33m,\u001b[0m\u001b[1;33m\u001b[0m\u001b[1;33m\u001b[0m\u001b[0m\n\u001b[0;32m    496\u001b[0m         \u001b[0mcolumn\u001b[0m\u001b[1;33m=\u001b[0m\u001b[0mcolumn\u001b[0m\u001b[1;33m,\u001b[0m\u001b[1;33m\u001b[0m\u001b[1;33m\u001b[0m\u001b[0m\n",
      "\u001b[1;32m~\\anaconda3\\envs\\learn-env\\lib\\site-packages\\pandas\\plotting\\_matplotlib\\boxplot.py\u001b[0m in \u001b[0;36mboxplot_frame\u001b[1;34m(self, column, by, ax, fontsize, rot, grid, figsize, layout, return_type, **kwds)\u001b[0m\n\u001b[0;32m    378\u001b[0m     \u001b[1;32mimport\u001b[0m \u001b[0mmatplotlib\u001b[0m\u001b[1;33m.\u001b[0m\u001b[0mpyplot\u001b[0m \u001b[1;32mas\u001b[0m \u001b[0mplt\u001b[0m\u001b[1;33m\u001b[0m\u001b[1;33m\u001b[0m\u001b[0m\n\u001b[0;32m    379\u001b[0m \u001b[1;33m\u001b[0m\u001b[0m\n\u001b[1;32m--> 380\u001b[1;33m     ax = boxplot(\n\u001b[0m\u001b[0;32m    381\u001b[0m         \u001b[0mself\u001b[0m\u001b[1;33m,\u001b[0m\u001b[1;33m\u001b[0m\u001b[1;33m\u001b[0m\u001b[0m\n\u001b[0;32m    382\u001b[0m         \u001b[0mcolumn\u001b[0m\u001b[1;33m=\u001b[0m\u001b[0mcolumn\u001b[0m\u001b[1;33m,\u001b[0m\u001b[1;33m\u001b[0m\u001b[1;33m\u001b[0m\u001b[0m\n",
      "\u001b[1;32m~\\anaconda3\\envs\\learn-env\\lib\\site-packages\\pandas\\plotting\\_matplotlib\\boxplot.py\u001b[0m in \u001b[0;36mboxplot\u001b[1;34m(data, column, by, ax, fontsize, rot, grid, figsize, layout, return_type, **kwds)\u001b[0m\n\u001b[0;32m    330\u001b[0m         \u001b[1;31m# Prefer array return type for 2-D plots to match the subplot layout\u001b[0m\u001b[1;33m\u001b[0m\u001b[1;33m\u001b[0m\u001b[1;33m\u001b[0m\u001b[0m\n\u001b[0;32m    331\u001b[0m         \u001b[1;31m# https://github.com/pandas-dev/pandas/pull/12216#issuecomment-241175580\u001b[0m\u001b[1;33m\u001b[0m\u001b[1;33m\u001b[0m\u001b[1;33m\u001b[0m\u001b[0m\n\u001b[1;32m--> 332\u001b[1;33m         result = _grouped_plot_by_column(\n\u001b[0m\u001b[0;32m    333\u001b[0m             \u001b[0mplot_group\u001b[0m\u001b[1;33m,\u001b[0m\u001b[1;33m\u001b[0m\u001b[1;33m\u001b[0m\u001b[0m\n\u001b[0;32m    334\u001b[0m             \u001b[0mdata\u001b[0m\u001b[1;33m,\u001b[0m\u001b[1;33m\u001b[0m\u001b[1;33m\u001b[0m\u001b[0m\n",
      "\u001b[1;32m~\\anaconda3\\envs\\learn-env\\lib\\site-packages\\pandas\\plotting\\_matplotlib\\boxplot.py\u001b[0m in \u001b[0;36m_grouped_plot_by_column\u001b[1;34m(plotf, data, columns, by, numeric_only, grid, figsize, ax, layout, return_type, **kwargs)\u001b[0m\n\u001b[0;32m    208\u001b[0m         \u001b[0max\u001b[0m \u001b[1;33m=\u001b[0m \u001b[0m_axes\u001b[0m\u001b[1;33m[\u001b[0m\u001b[0mi\u001b[0m\u001b[1;33m]\u001b[0m\u001b[1;33m\u001b[0m\u001b[1;33m\u001b[0m\u001b[0m\n\u001b[0;32m    209\u001b[0m         \u001b[0mgp_col\u001b[0m \u001b[1;33m=\u001b[0m \u001b[0mgrouped\u001b[0m\u001b[1;33m[\u001b[0m\u001b[0mcol\u001b[0m\u001b[1;33m]\u001b[0m\u001b[1;33m\u001b[0m\u001b[1;33m\u001b[0m\u001b[0m\n\u001b[1;32m--> 210\u001b[1;33m         \u001b[0mkeys\u001b[0m\u001b[1;33m,\u001b[0m \u001b[0mvalues\u001b[0m \u001b[1;33m=\u001b[0m \u001b[0mzip\u001b[0m\u001b[1;33m(\u001b[0m\u001b[1;33m*\u001b[0m\u001b[0mgp_col\u001b[0m\u001b[1;33m)\u001b[0m\u001b[1;33m\u001b[0m\u001b[1;33m\u001b[0m\u001b[0m\n\u001b[0m\u001b[0;32m    211\u001b[0m         \u001b[0mre_plotf\u001b[0m \u001b[1;33m=\u001b[0m \u001b[0mplotf\u001b[0m\u001b[1;33m(\u001b[0m\u001b[0mkeys\u001b[0m\u001b[1;33m,\u001b[0m \u001b[0mvalues\u001b[0m\u001b[1;33m,\u001b[0m \u001b[0max\u001b[0m\u001b[1;33m,\u001b[0m \u001b[1;33m**\u001b[0m\u001b[0mkwargs\u001b[0m\u001b[1;33m)\u001b[0m\u001b[1;33m\u001b[0m\u001b[1;33m\u001b[0m\u001b[0m\n\u001b[0;32m    212\u001b[0m         \u001b[0max\u001b[0m\u001b[1;33m.\u001b[0m\u001b[0mset_title\u001b[0m\u001b[1;33m(\u001b[0m\u001b[0mcol\u001b[0m\u001b[1;33m)\u001b[0m\u001b[1;33m\u001b[0m\u001b[1;33m\u001b[0m\u001b[0m\n",
      "\u001b[1;31mValueError\u001b[0m: not enough values to unpack (expected 2, got 0)"
     ]
    },
    {
     "data": {
      "image/png": "[encoded data removed]",
      "text/plain": [
       "<Figure size 1440x576 with 1 Axes>"
      ]
     },
     "metadata": {},
     "output_type": "display_data"
    }
   ],
   "source": [
    "#Representation of data in a boxplot\n",
    "ax = df.boxplot(column= 'Ratings', by= 'Runtime', figsize= (20,8))\n",
    "ax.set_ylabel(\"Ratings\")\n",
    "ax.set_title(\"Movies performance\")"
   ]
  },
  {
   "cell_type": "code",
   "execution_count": 21,
   "metadata": {},
   "outputs": [
    {
     "data": {
      "image/png": "[encoded data removed]",
      "text/plain": [
       "<Figure size 576x396 with 1 Axes>"
      ]
     },
     "metadata": {},
     "output_type": "display_data"
    }
   ],
   "source": [
    "#Correlation of ratings vs runtime by a line graph\n",
    "Ratings = [8.0, 8.1, 8.2, 8.3, 8.4, 8.5, 8.6, 8.7, 8.8, 8.9, 9.0, 9.1, 9.2]\n",
    "Runtime = [2.30, 2.22, 2.15, 3.0, 3.15, 1.30, 2.00, 1.26, 1.34, 1.00, 2.34,3.00, 2.22]\n",
    "plt.plot(Ratings, Runtime)\n",
    "plt.xlabel(\"Ratings\")\n",
    "plt.ylabel(\"Runtime\")\n",
    "plt.title('Correlation')\n",
    "plt.show()"
   ]
  },
  {
   "cell_type": "code",
   "execution_count": null,
   "metadata": {},
   "outputs": [],
   "source": []
  }
 ],
 "metadata": {
  "kernelspec": {
   "display_name": "Python 3",
   "language": "python",
   "name": "python3"
  },
  "language_info": {
   "codemirror_mode": {
    "name": "ipython",
    "version": 3
   },
   "file_extension": ".py",
   "mimetype": "text/x-python",
   "name": "python",
   "nbconvert_exporter": "python",
   "pygments_lexer": "ipython3",
   "version": "3.8.5"
  }
 },
 "nbformat": 4,
 "nbformat_minor": 4
}
